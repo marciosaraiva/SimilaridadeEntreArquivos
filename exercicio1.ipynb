{
 "cells": [
  {
   "cell_type": "markdown",
   "id": "3b186382-b200-46a5-bc2e-76ba725d8542",
   "metadata": {},
   "source": [
    "# SYMAS: DETECCÇÃO DE SEMELHANÇAS"
   ]
  },
  {
   "cell_type": "markdown",
   "id": "45c6bbc3-aeb0-414c-81ca-c91964a1e154",
   "metadata": {},
   "source": [
    "# Imports"
   ]
  },
  {
   "cell_type": "code",
   "execution_count": 18,
   "id": "f1642c94-a61c-4a6b-8c6b-dcf7af43e49a",
   "metadata": {},
   "outputs": [],
   "source": [
    "import hashlib\n",
    "import os\n",
    "import re"
   ]
  },
  {
   "cell_type": "code",
   "execution_count": 2,
   "id": "f0e65f18-527d-46c8-afed-09669da26b7c",
   "metadata": {},
   "outputs": [],
   "source": [
    "def lista_todos_ficheiros(path):\n",
    "    lista_ficheiros = []\n",
    "    \n",
    "    for root, dirs, files in os.walk(path):\n",
    "        for file in files:\n",
    "            if not \"-checkpoint\" in file:\n",
    "                lista_ficheiros.append(os.path.join(root, file).replace(\"\\\\\",\"/\"))\n",
    "                \n",
    "    \n",
    "    return lista_ficheiros"
   ]
  },
  {
   "cell_type": "code",
   "execution_count": 3,
   "id": "ad69a2a9-0358-4b38-a882-74c66b63d15e",
   "metadata": {},
   "outputs": [],
   "source": [
    "lista_ficheiro_duarte = lista_todos_ficheiros(\"ficheiros/\")"
   ]
  },
  {
   "cell_type": "code",
   "execution_count": 4,
   "id": "2e0beb79-acb9-4dc4-a46e-32a205b3314a",
   "metadata": {},
   "outputs": [],
   "source": [
    "def detect_mesmo_nome(lista_ficheiros):\n",
    "    grupos = []\n",
    "    \n",
    "    for ficheiro in lista_ficheiros:\n",
    "        if len(grupos) == 0:\n",
    "            grupo = [ficheiro]\n",
    "            grupos.append(grupo)\n",
    "            \n",
    "        else:\n",
    "            nao_achou_grupo = True\n",
    "            \n",
    "            for grupo in grupos:\n",
    "                individuo = grupo[0]\n",
    "                individuo = individuo.split(\"/\")[-1]\n",
    "                if ficheiro.split(\"/\")[-1] == individuo:\n",
    "                    grupo.append(ficheiro)\n",
    "                    nao_achou_grupo = False\n",
    "                    \n",
    "            if nao_achou_grupo:\n",
    "                grupo = [ficheiro]\n",
    "                grupos.append(grupo)\n",
    "            \n",
    "    final = []\n",
    "    for grupo in grupos:\n",
    "        if len(grupo)>1:\n",
    "            final.append(grupo)\n",
    "    \n",
    "    \n",
    "    return final    "
   ]
  },
  {
   "cell_type": "code",
   "execution_count": 5,
   "id": "95f6edc9-f932-4774-88bf-82ae043eb934",
   "metadata": {},
   "outputs": [],
   "source": [
    "def detect_mesma_extensao(lista_ficheiros):\n",
    "    grupos = []\n",
    "    \n",
    "    for ficheiro in lista_ficheiros:\n",
    "        if len(grupos) == 0:\n",
    "            grupo = [ficheiro]\n",
    "            grupos.append(grupo)\n",
    "            \n",
    "        else:\n",
    "            nao_achou_grupo = True\n",
    "            \n",
    "            for grupo in grupos:\n",
    "                individuo = grupo[0]\n",
    "                individuo = individuo.split(\".\")[-1]\n",
    "                if ficheiro.split(\".\")[-1] == individuo:\n",
    "                    grupo.append(ficheiro)\n",
    "                    nao_achou_grupo = False\n",
    "                    \n",
    "            if nao_achou_grupo:\n",
    "                grupo = [ficheiro]\n",
    "                grupos.append(grupo)\n",
    "            \n",
    "    final = []\n",
    "    for grupo in grupos:\n",
    "        if len(grupo)>1:\n",
    "            final.append(grupo)\n",
    "    \n",
    "    \n",
    "    return final    "
   ]
  },
  {
   "cell_type": "code",
   "execution_count": 14,
   "id": "34a4c83c-dcfd-46ec-b589-59aaf06cf3ea",
   "metadata": {},
   "outputs": [],
   "source": [
    "def detect_conteudo_binario(lista_ficheiros):\n",
    "\n",
    "    grupos = []\n",
    "    \n",
    "    for ficheiro in lista_ficheiros:\n",
    "        if len(grupos) == 0:\n",
    "            grupo = [ficheiro]\n",
    "            grupos.append(grupo)\n",
    "            \n",
    "        else:\n",
    "            nao_achou_grupo = True\n",
    "            \n",
    "            for grupo in grupos:\n",
    "                individuo = grupo[0]\n",
    "                \n",
    "                ficheiro_individuo = open(individuo, \"r\")\n",
    "                \n",
    "                ficheiro_temp = open(ficheiro, \"r\")\n",
    "                \n",
    "                resumo1 = hashlib.md5(\"\".join(ficheiro_temp.readlines()).encode())\n",
    "                resumo2 = hashlib.md5(\"\".join(ficheiro_individuo.readlines()).encode())\n",
    "                \n",
    "                if resumo1.digest() == resumo2.digest():\n",
    "                    grupo.append(ficheiro)\n",
    "                    nao_achou_grupo = False\n",
    "                    \n",
    "            if nao_achou_grupo:\n",
    "                grupo = [ficheiro]\n",
    "                grupos.append(grupo)\n",
    "            \n",
    "    final = []\n",
    "    for grupo in grupos:\n",
    "        if len(grupo)>1:\n",
    "            final.append(grupo)\n",
    "    \n",
    "    \n",
    "    return grupos    "
   ]
  },
  {
   "cell_type": "code",
   "execution_count": 5,
   "id": "3a296503-9737-40e9-b651-56819254b8bb",
   "metadata": {},
   "outputs": [
    {
     "ename": "TypeError",
     "evalue": "string argument without an encoding",
     "output_type": "error",
     "traceback": [
      "\u001b[1;31m---------------------------------------------------------------------------\u001b[0m",
      "\u001b[1;31mTypeError\u001b[0m                                 Traceback (most recent call last)",
      "Input \u001b[1;32mIn [5]\u001b[0m, in \u001b[0;36m<cell line: 1>\u001b[1;34m()\u001b[0m\n\u001b[1;32m----> 1\u001b[0m \u001b[38;5;28;43mbytes\u001b[39;49m\u001b[43m(\u001b[49m\u001b[38;5;124;43m\"\u001b[39;49m\u001b[38;5;124;43moi\u001b[39;49m\u001b[38;5;124;43m\"\u001b[39;49m\u001b[43m)\u001b[49m\n",
      "\u001b[1;31mTypeError\u001b[0m: string argument without an encoding"
     ]
    }
   ],
   "source": [
    "bytes(\"oi\")"
   ]
  },
  {
   "cell_type": "code",
   "execution_count": 29,
   "id": "fd600505-69de-411f-b0c5-3dd52b073ff5",
   "metadata": {},
   "outputs": [],
   "source": [
    "def detect_regex(lista_ficheiros, pattern):\n",
    "    grupo = []\n",
    "    \n",
    "    for ficheiro in lista_ficheiros:\n",
    "        nome = ficheiro.split(\"/\")[-1].split(\".\")[-2]\n",
    "        \n",
    "        padrao = re.compile(pattern)\n",
    "\n",
    "        if padrao.match(nome):\n",
    "            grupo.append(ficheiro)\n",
    "            \n",
    "    return grupo"
   ]
  }
 ],
 "metadata": {
  "kernelspec": {
   "display_name": "Python 3 (ipykernel)",
   "language": "python",
   "name": "python3"
  },
  "language_info": {
   "codemirror_mode": {
    "name": "ipython",
    "version": 3
   },
   "file_extension": ".py",
   "mimetype": "text/x-python",
   "name": "python",
   "nbconvert_exporter": "python",
   "pygments_lexer": "ipython3",
   "version": "3.10.5"
  }
 },
 "nbformat": 4,
 "nbformat_minor": 5
}
